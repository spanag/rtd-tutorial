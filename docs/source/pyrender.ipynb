{
 "cells": [
  {
   "cell_type": "code",
   "execution_count": null,
   "id": "cc615bcb",
   "metadata": {},
   "outputs": [],
   "source": [
    "%pip install pyrender trimesh\n",
    "# a newer version of pyopengl is needed: https://github.com/EvelynFan/FaceFormer/issues/7#issuecomment-1092615864\n",
    "# split the pip install command, to avoid pip otherwise backtracking to really old packages to satisfy all constraints at the same time.\n",
    "%pip install \"pyopengl>=3.1.4\" pyopengl_accelerate "
   ]
  },
  {
   "cell_type": "code",
   "execution_count": null,
   "id": "a3a57ae3",
   "metadata": {},
   "outputs": [],
   "source": [
    "!git clone https://github.com/mmatl/pyrender"
   ]
  },
  {
   "cell_type": "code",
   "execution_count": null,
   "id": "950eb80e",
   "metadata": {},
   "outputs": [],
   "source": [
    "import os\n",
    "# The osmesa backend is used for reliable, CPU based rendering. Set to 'egl' if you're feeling lucky, or read the pyrender docs about other options.\n",
    "# Also make sure libosmesa is installed on your system, of course.\n",
    "os.environ['PYOPENGL_PLATFORM'] = 'osmesa'"
   ]
  },
  {
   "cell_type": "code",
   "execution_count": null,
   "id": "0a77cae0",
   "metadata": {},
   "outputs": [],
   "source": [
    "import numpy as np\n",
    "import trimesh\n",
    "import pyrender\n",
    "import matplotlib.pyplot as plt\n",
    "fuze_trimesh = trimesh.load('pyrender/examples/models/fuze.obj')\n",
    "mesh = pyrender.Mesh.from_trimesh(fuze_trimesh)\n",
    "scene = pyrender.Scene()\n",
    "scene.add(mesh)\n",
    "camera = pyrender.PerspectiveCamera(yfov=np.pi / 3.0, aspectRatio=1.0)\n",
    "s = np.sqrt(2)/2\n",
    "camera_pose = np.array([\n",
    "   [0.0, -s,   s,   0.3],\n",
    "   [1.0,  0.0, 0.0, 0.0],\n",
    "   [0.0,  s,   s,   0.35],\n",
    "   [0.0,  0.0, 0.0, 1.0],\n",
    "])\n",
    "scene.add(camera, pose=camera_pose)\n",
    "light = pyrender.SpotLight(color=np.ones(3), intensity=3.0,\n",
    "                           innerConeAngle=np.pi/16.0,\n",
    "                           outerConeAngle=np.pi/6.0)\n",
    "scene.add(light, pose=camera_pose)\n",
    "r = pyrender.OffscreenRenderer(400, 400)\n"
   ]
  },
  {
   "cell_type": "code",
   "execution_count": null,
   "id": "44ec4510",
   "metadata": {},
   "outputs": [],
   "source": [
    "for i in range(10):\n",
    "    color, depth = r.render(scene)\n",
    "plt.figure()\n",
    "plt.subplot(1,2,1)\n",
    "plt.axis('off')\n",
    "plt.imshow(color)\n",
    "plt.subplot(1,2,2)\n",
    "plt.axis('off')\n",
    "plt.imshow(depth, cmap=plt.cm.gray_r)\n",
    "plt.show()"
   ]
  }
 ],
 "metadata": {
  "kernelspec": {
   "display_name": "Python 3 (ipykernel)",
   "language": "python",
   "name": "python3"
  },
  "language_info": {
   "codemirror_mode": {
    "name": "ipython",
    "version": 3
   },
   "file_extension": ".py",
   "mimetype": "text/x-python",
   "name": "python",
   "nbconvert_exporter": "python",
   "pygments_lexer": "ipython3",
   "version": "3.11.4"
  }
 },
 "nbformat": 4,
 "nbformat_minor": 5
}
