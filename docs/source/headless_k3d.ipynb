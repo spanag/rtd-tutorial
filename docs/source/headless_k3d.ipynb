{
 "cells": [
  {
   "cell_type": "code",
   "execution_count": null,
   "id": "1bfe20bb-eb3a-4857-9cf3-a7de52313024",
   "metadata": {},
   "outputs": [],
   "source": [
    "%%writefile headless_k3d.py\n",
    "import numpy as np\n",
    "\n",
    "import k3d\n",
    "from k3d.headless import k3d_remote, get_headless_driver\n",
    "\n",
    "\n",
    "def generate():\n",
    "    def iterate(length, x, y, z):\n",
    "        nl = length // 3\n",
    "\n",
    "        if nl < 1:\n",
    "            return\n",
    "\n",
    "        margin = (nl - 1) // 2\n",
    "\n",
    "        voxels[z - margin:z + margin + 1, y - margin:y + margin + 1, :] = 0\n",
    "        voxels[z - margin:z + margin + 1, :, x - margin:x + margin + 1] = 0\n",
    "        voxels[:, y - margin:y + margin + 1, x - margin:x + margin + 1] = 0\n",
    "\n",
    "        for ix, iy, iz in np.ndindex((3, 3, 3)):\n",
    "            if (1 if ix != 1 else 0) + (1 if iy != 1 else 0) + (1 if iz != 1 else 0) != 2:\n",
    "                iterate(nl, x + (ix - 1) * nl, y +\n",
    "                        (iy - 1) * nl, z + (iz - 1) * nl)\n",
    "\n",
    "    iteration = 4\n",
    "    size = 3 ** iteration\n",
    "\n",
    "    voxels = np.ones((size, size, size))\n",
    "\n",
    "    iterate(size, size // 2, size // 2, size // 2)\n",
    "\n",
    "    plt_voxels = k3d.voxels(voxels.astype(np.uint8),\n",
    "                            color_map=(0xfdfe03), outlines=True)\n",
    "\n",
    "    plot = k3d.plot(grid_visible=False,\n",
    "                    camera_auto_fit=False,\n",
    "                    screenshot_scale=1,\n",
    "                    axes_helper=0)\n",
    "    plot += plt_voxels\n",
    "\n",
    "    plot.camera = [98.5152, -60.0912, 88.9902,\n",
    "                   43.4731, 37.6014, 31.5219,\n",
    "                   -0.2226, 0.3405, 0.9135]\n",
    "\n",
    "    headless = k3d_remote(plot, get_headless_driver(), width=800, height=800)\n",
    "\n",
    "    headless.sync(hold_until_refreshed=True)\n",
    "    headless.camera_reset(1)\n",
    "\n",
    "    screenshot = headless.get_screenshot()\n",
    "    headless.close()\n",
    "\n",
    "    return screenshot\n",
    "png_data = generate()\n",
    "from PIL import Image as PILImage\n",
    "from io import BytesIO\n",
    "with open('headless_k3d.png','wb') as f:\n",
    "    f.write(png_data)\n",
    "# help(ret)"
   ]
  },
  {
   "cell_type": "code",
   "execution_count": null,
   "id": "12b30260-ba6f-4afc-9818-7d800272f9c1",
   "metadata": {},
   "outputs": [],
   "source": [
    "!python3 headless_k3d.py"
   ]
  },
  {
   "cell_type": "code",
   "execution_count": null,
   "id": "dca887f8-bb77-4eb2-a89d-ffebb8266f8d",
   "metadata": {},
   "outputs": [],
   "source": [
    "import IPython\n",
    "IPython.display.Image('headless_k3d.png')"
   ]
  }
 ],
 "metadata": {
  "kernelspec": {
   "display_name": "Python 3 (ipykernel)",
   "language": "python",
   "name": "python3"
  },
  "language_info": {
   "codemirror_mode": {
    "name": "ipython",
    "version": 3
   },
   "file_extension": ".py",
   "mimetype": "text/x-python",
   "name": "python",
   "nbconvert_exporter": "python",
   "pygments_lexer": "ipython3",
   "version": "3.11.4"
  }
 },
 "nbformat": 4,
 "nbformat_minor": 5
}
